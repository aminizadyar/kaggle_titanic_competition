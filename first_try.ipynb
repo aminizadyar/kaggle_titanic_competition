{
 "cells": [
  {
   "cell_type": "code",
   "execution_count": 9,
   "id": "61fa9a0d",
   "metadata": {},
   "outputs": [],
   "source": [
    "import pandas as pd\n",
    "import matplotlib.pyplot as plt\n",
    "from sklearn.ensemble import RandomForestClassifier\n",
    "from sklearn.cluster import KMeans\n",
    "from sklearn.impute import SimpleImputer\n",
    "from sklearn.experimental import enable_iterative_imputer\n",
    "from sklearn.impute import IterativeImputer\n",
    "from sklearn.pipeline import Pipeline\n",
    "import numpy as np\n",
    "from sklearn.model_selection import GridSearchCV\n",
    "\n",
    "train_data = pd.read_csv('data/train.csv')\n",
    "test_data = pd.read_csv('data/test.csv')"
   ]
  },
  {
   "cell_type": "markdown",
   "id": "bbfeffa8",
   "metadata": {},
   "source": [
    "# 1. Inspecting the data"
   ]
  },
  {
   "cell_type": "code",
   "execution_count": 2,
   "id": "06a799e3",
   "metadata": {},
   "outputs": [
    {
     "data": {
      "text/html": [
       "<div>\n",
       "<style scoped>\n",
       "    .dataframe tbody tr th:only-of-type {\n",
       "        vertical-align: middle;\n",
       "    }\n",
       "\n",
       "    .dataframe tbody tr th {\n",
       "        vertical-align: top;\n",
       "    }\n",
       "\n",
       "    .dataframe thead th {\n",
       "        text-align: right;\n",
       "    }\n",
       "</style>\n",
       "<table border=\"1\" class=\"dataframe\">\n",
       "  <thead>\n",
       "    <tr style=\"text-align: right;\">\n",
       "      <th></th>\n",
       "      <th>PassengerId</th>\n",
       "      <th>Survived</th>\n",
       "      <th>Pclass</th>\n",
       "      <th>Name</th>\n",
       "      <th>Sex</th>\n",
       "      <th>Age</th>\n",
       "      <th>SibSp</th>\n",
       "      <th>Parch</th>\n",
       "      <th>Ticket</th>\n",
       "      <th>Fare</th>\n",
       "      <th>Cabin</th>\n",
       "      <th>Embarked</th>\n",
       "    </tr>\n",
       "  </thead>\n",
       "  <tbody>\n",
       "    <tr>\n",
       "      <th>0</th>\n",
       "      <td>1</td>\n",
       "      <td>0</td>\n",
       "      <td>3</td>\n",
       "      <td>Braund, Mr. Owen Harris</td>\n",
       "      <td>male</td>\n",
       "      <td>22.0</td>\n",
       "      <td>1</td>\n",
       "      <td>0</td>\n",
       "      <td>A/5 21171</td>\n",
       "      <td>7.2500</td>\n",
       "      <td>NaN</td>\n",
       "      <td>S</td>\n",
       "    </tr>\n",
       "    <tr>\n",
       "      <th>1</th>\n",
       "      <td>2</td>\n",
       "      <td>1</td>\n",
       "      <td>1</td>\n",
       "      <td>Cumings, Mrs. John Bradley (Florence Briggs Th...</td>\n",
       "      <td>female</td>\n",
       "      <td>38.0</td>\n",
       "      <td>1</td>\n",
       "      <td>0</td>\n",
       "      <td>PC 17599</td>\n",
       "      <td>71.2833</td>\n",
       "      <td>C85</td>\n",
       "      <td>C</td>\n",
       "    </tr>\n",
       "    <tr>\n",
       "      <th>2</th>\n",
       "      <td>3</td>\n",
       "      <td>1</td>\n",
       "      <td>3</td>\n",
       "      <td>Heikkinen, Miss. Laina</td>\n",
       "      <td>female</td>\n",
       "      <td>26.0</td>\n",
       "      <td>0</td>\n",
       "      <td>0</td>\n",
       "      <td>STON/O2. 3101282</td>\n",
       "      <td>7.9250</td>\n",
       "      <td>NaN</td>\n",
       "      <td>S</td>\n",
       "    </tr>\n",
       "    <tr>\n",
       "      <th>3</th>\n",
       "      <td>4</td>\n",
       "      <td>1</td>\n",
       "      <td>1</td>\n",
       "      <td>Futrelle, Mrs. Jacques Heath (Lily May Peel)</td>\n",
       "      <td>female</td>\n",
       "      <td>35.0</td>\n",
       "      <td>1</td>\n",
       "      <td>0</td>\n",
       "      <td>113803</td>\n",
       "      <td>53.1000</td>\n",
       "      <td>C123</td>\n",
       "      <td>S</td>\n",
       "    </tr>\n",
       "    <tr>\n",
       "      <th>4</th>\n",
       "      <td>5</td>\n",
       "      <td>0</td>\n",
       "      <td>3</td>\n",
       "      <td>Allen, Mr. William Henry</td>\n",
       "      <td>male</td>\n",
       "      <td>35.0</td>\n",
       "      <td>0</td>\n",
       "      <td>0</td>\n",
       "      <td>373450</td>\n",
       "      <td>8.0500</td>\n",
       "      <td>NaN</td>\n",
       "      <td>S</td>\n",
       "    </tr>\n",
       "  </tbody>\n",
       "</table>\n",
       "</div>"
      ],
      "text/plain": [
       "   PassengerId  Survived  Pclass  \\\n",
       "0            1         0       3   \n",
       "1            2         1       1   \n",
       "2            3         1       3   \n",
       "3            4         1       1   \n",
       "4            5         0       3   \n",
       "\n",
       "                                                Name     Sex   Age  SibSp  \\\n",
       "0                            Braund, Mr. Owen Harris    male  22.0      1   \n",
       "1  Cumings, Mrs. John Bradley (Florence Briggs Th...  female  38.0      1   \n",
       "2                             Heikkinen, Miss. Laina  female  26.0      0   \n",
       "3       Futrelle, Mrs. Jacques Heath (Lily May Peel)  female  35.0      1   \n",
       "4                           Allen, Mr. William Henry    male  35.0      0   \n",
       "\n",
       "   Parch            Ticket     Fare Cabin Embarked  \n",
       "0      0         A/5 21171   7.2500   NaN        S  \n",
       "1      0          PC 17599  71.2833   C85        C  \n",
       "2      0  STON/O2. 3101282   7.9250   NaN        S  \n",
       "3      0            113803  53.1000  C123        S  \n",
       "4      0            373450   8.0500   NaN        S  "
      ]
     },
     "execution_count": 2,
     "metadata": {},
     "output_type": "execute_result"
    }
   ],
   "source": [
    "train_data.head()"
   ]
  },
  {
   "cell_type": "markdown",
   "id": "51837196",
   "metadata": {},
   "source": [
    "### Comparing survival rate across various categorical variables"
   ]
  },
  {
   "cell_type": "code",
   "execution_count": 3,
   "id": "3277a8e1",
   "metadata": {},
   "outputs": [
    {
     "name": "stdout",
     "output_type": "stream",
     "text": [
      "   Pclass  Survived\n",
      "0       1  0.629630\n",
      "1       2  0.472826\n",
      "2       3  0.242363 \n",
      "\n",
      "\n",
      "      Sex  Survived\n",
      "0  female  0.742038\n",
      "1    male  0.188908 \n",
      "\n",
      "\n",
      "   SibSp  Survived\n",
      "0      0  0.345395\n",
      "1      1  0.535885\n",
      "2      2  0.464286\n",
      "3      3  0.250000\n",
      "4      4  0.166667\n",
      "5      5  0.000000\n",
      "6      8  0.000000 \n",
      "\n",
      "\n",
      "   Parch  Survived\n",
      "0      0  0.343658\n",
      "1      1  0.550847\n",
      "2      2  0.500000\n",
      "3      3  0.600000\n",
      "4      4  0.000000\n",
      "5      5  0.200000\n",
      "6      6  0.000000 \n",
      "\n",
      "\n",
      "  Embarked  Survived\n",
      "0        C  0.553571\n",
      "1        Q  0.389610\n",
      "2        S  0.336957 \n",
      "\n",
      "\n"
     ]
    }
   ],
   "source": [
    "for col in train_data.columns[[2,4,6,7,11]]:\n",
    "    print(train_data.groupby(col,as_index=False)[\"Survived\"].mean(),\"\\n\\n\")"
   ]
  },
  {
   "cell_type": "markdown",
   "id": "8090e926",
   "metadata": {},
   "source": [
    "### Comparing survival rate across age groups"
   ]
  },
  {
   "cell_type": "code",
   "execution_count": 4,
   "id": "805af72d",
   "metadata": {},
   "outputs": [
    {
     "data": {
      "text/plain": [
       "Text(0, 0.5, 'Survival Rate')"
      ]
     },
     "execution_count": 4,
     "metadata": {},
     "output_type": "execute_result"
    },
    {
     "data": {
      "image/png": "[encoded data removed]",
      "text/plain": [
       "<Figure size 640x480 with 1 Axes>"
      ]
     },
     "metadata": {},
     "output_type": "display_data"
    }
   ],
   "source": [
    "average_survival_rate_per_age = train_data.groupby(\"Age\",as_index=False)[\"Survived\"].mean()\n",
    "plt.bar(average_survival_rate_per_age['Age'],average_survival_rate_per_age['Survived'])\n",
    "\n",
    "plt.xlabel('Age')\n",
    "plt.ylabel('Survival Rate')"
   ]
  },
  {
   "cell_type": "markdown",
   "id": "f354c672",
   "metadata": {},
   "source": [
    "### Comparing survival rate across fare groups"
   ]
  },
  {
   "cell_type": "code",
   "execution_count": 5,
   "id": "69dd57e7",
   "metadata": {},
   "outputs": [
    {
     "data": {
      "text/plain": [
       "Text(0, 0.5, 'Survival Rate')"
      ]
     },
     "execution_count": 5,
     "metadata": {},
     "output_type": "execute_result"
    },
    {
     "data": {
      "image/png": "[encoded data removed]",
      "text/plain": [
       "<Figure size 640x480 with 1 Axes>"
      ]
     },
     "metadata": {},
     "output_type": "display_data"
    }
   ],
   "source": [
    "average_survival_rate_per_fare_group = train_data.groupby(\"Fare\",as_index=False)[\"Survived\"].mean()\n",
    "plt.bar(average_survival_rate_per_fare_group['Fare'],average_survival_rate_per_fare_group['Survived'])\n",
    "\n",
    "plt.xlabel('Fare')\n",
    "plt.ylabel('Survival Rate')"
   ]
  },
  {
   "cell_type": "markdown",
   "id": "37998035",
   "metadata": {},
   "source": [
    "# 2. Training a simple random forest"
   ]
  },
  {
   "cell_type": "code",
   "execution_count": 5,
   "id": "14bc91a1",
   "metadata": {},
   "outputs": [],
   "source": [
    "train_data['is_male'] = pd.get_dummies(train_data['Sex'],drop_first=True)\n",
    "test_data['is_male'] = pd.get_dummies(test_data['Sex'],drop_first=True)\n",
    "\n",
    "features = ['Age', 'is_male', 'Fare', 'Pclass', 'SibSp', 'Parch']\n",
    "\n",
    "X_train = train_data[features]\n",
    "X_test = test_data[features]\n",
    "y = train_data[\"Survived\"]"
   ]
  },
  {
   "cell_type": "markdown",
   "id": "89b5bedf",
   "metadata": {},
   "source": [
    "### Writing in pipes"
   ]
  },
  {
   "cell_type": "code",
   "execution_count": 15,
   "id": "dab1ee29",
   "metadata": {},
   "outputs": [
    {
     "name": "stdout",
     "output_type": "stream",
     "text": [
      "Fitting 5 folds for each of 75 candidates, totalling 375 fits\n",
      "Best max_depth: 9\n",
      "Best CV accuracy: 0.8227229929069111\n"
     ]
    }
   ],
   "source": [
    "# 1. Define the pipeline\n",
    "pipe = Pipeline([\n",
    "    ('imputer', SimpleImputer(strategy='median')),\n",
    "    ('random_forest', RandomForestClassifier(\n",
    "        n_estimators=1000,\n",
    "        random_state=1\n",
    "    ))\n",
    "])\n",
    "\n",
    "# 2. Set up the grid of hyperparameters to search\n",
    "param_grid = {\n",
    "    'random_forest__max_depth':        [3, 5, 7, 9, None],\n",
    "    'random_forest__min_samples_leaf': [5, 10, 15],\n",
    "    'random_forest__class_weight':     [None, 'balanced', 'balanced_subsample',\n",
    "                                        {0: 1, 1: 1.5}, {0: 1, 1: 2}]  # example custom mapping\n",
    "}\n",
    "\n",
    "# 3. Create the GridSearchCV object\n",
    "grid = GridSearchCV(\n",
    "    estimator=pipe,\n",
    "    param_grid=param_grid,\n",
    "    cv=5,               # 5-fold cross-validation\n",
    "    scoring='accuracy', \n",
    "    n_jobs=-1,          # use all cores\n",
    "    verbose=1\n",
    ")\n",
    "\n",
    "# 4. Fit to the training data\n",
    "predictions = grid.fit(X_train, y).predict(X_test)\n",
    "\n",
    "output = pd.DataFrame({'PassengerId': test_data.PassengerId, 'Survived': predictions})\n",
    "output.to_csv('sumbissions/submission_RF.csv', index=False)\n",
    "\n",
    "# 5. Inspect the best parameters and best score\n",
    "print(\"Best max_depth:\", grid.best_params_['random_forest__max_depth'])\n",
    "print(\"Best CV accuracy:\", grid.best_score_)"
   ]
  },
  {
   "cell_type": "markdown",
   "id": "308dccd4",
   "metadata": {},
   "source": [
    "##### Interpreting"
   ]
  },
  {
   "cell_type": "code",
   "execution_count": 16,
   "id": "9aa15e06",
   "metadata": {},
   "outputs": [
    {
     "name": "stdout",
     "output_type": "stream",
     "text": [
      "   Feature  Importance\n",
      "0  is_male    0.439106\n",
      "1     Fare    0.214155\n",
      "2      Age    0.138183\n",
      "3   Pclass    0.130200\n",
      "4    SibSp    0.046652\n",
      "5    Parch    0.031704\n"
     ]
    },
    {
     "data": {
      "image/png": "[encoded data removed]",
      "text/plain": [
       "<Figure size 1000x600 with 1 Axes>"
      ]
     },
     "metadata": {},
     "output_type": "display_data"
    }
   ],
   "source": [
    "# 1. After grid search, get the best pipeline\n",
    "best_pipe = grid.best_estimator_\n",
    "\n",
    "# 2. Extract the trained RandomForestClassifier\n",
    "rf = best_pipe.named_steps['random_forest']\n",
    "\n",
    "# 3. Get importances\n",
    "importances = rf.feature_importances_\n",
    "\n",
    "# 4. Get the feature names\n",
    "#    If you only impute (don’t add/drop or encode columns), your original X_train.columns still apply:\n",
    "feature_names = X_train.columns\n",
    "\n",
    "#    If you had a more complex pipeline (e.g. one-hot encoding via ColumnTransformer),\n",
    "#    you’d use something like:\n",
    "# feature_names = best_pipe.named_steps['preprocessor'] \\\n",
    "#                   .get_feature_names_out(input_features=X_train.columns)\n",
    "\n",
    "# 5. Build a DataFrame and sort\n",
    "feature_importance_df = (\n",
    "    pd.DataFrame({\n",
    "        'Feature': feature_names,\n",
    "        'Importance': importances\n",
    "    })\n",
    "    .sort_values('Importance', ascending=False)\n",
    "    .reset_index(drop=True)\n",
    ")\n",
    "\n",
    "# 6. Display the top features\n",
    "print(feature_importance_df)\n",
    "\n",
    "# 7. Plot\n",
    "plt.figure(figsize=(10, 6))\n",
    "plt.barh(\n",
    "    feature_importance_df['Feature'],\n",
    "    feature_importance_df['Importance']\n",
    ")\n",
    "plt.xlabel('Importance')\n",
    "plt.title('Feature Importance in Random Forest')\n",
    "plt.gca().invert_yaxis()  # highest importance at the top\n",
    "plt.tight_layout()\n",
    "plt.show()"
   ]
  }
 ],
 "metadata": {
  "kernelspec": {
   "display_name": "Python 3",
   "language": "python",
   "name": "python3"
  },
  "language_info": {
   "codemirror_mode": {
    "name": "ipython",
    "version": 3
   },
   "file_extension": ".py",
   "mimetype": "text/x-python",
   "name": "python",
   "nbconvert_exporter": "python",
   "pygments_lexer": "ipython3",
   "version": "3.11.3"
  }
 },
 "nbformat": 4,
 "nbformat_minor": 5
}
